{
  "nbformat": 4,
  "nbformat_minor": 0,
  "metadata": {
    "colab": {
      "provenance": [],
      "authorship_tag": "ABX9TyNY+SOcK/dDbK2SGJOgBwh1",
      "include_colab_link": true
    },
    "kernelspec": {
      "name": "python3",
      "display_name": "Python 3"
    },
    "language_info": {
      "name": "python"
    }
  },
  "cells": [
    {
      "cell_type": "markdown",
      "metadata": {
        "id": "view-in-github",
        "colab_type": "text"
      },
      "source": [
        "<a href=\"https://colab.research.google.com/github/Mitali064/Demo/blob/main/A_C_Python_Lessons.ipynb\" target=\"_parent\"><img src=\"https://colab.research.google.com/assets/colab-badge.svg\" alt=\"Open In Colab\"/></a>"
      ]
    },
    {
      "cell_type": "code",
      "execution_count": null,
      "metadata": {
        "id": "HJ98WtSPKW7D"
      },
      "outputs": [],
      "source": [
        "a = int(input())\n",
        "b = int(input())\n",
        "\n",
        "print (a+b)"
      ]
    },
    {
      "cell_type": "code",
      "source": [
        "side_of_a_square = int(input())\n",
        "area = side_of_a_square **2\n",
        "print (area)"
      ],
      "metadata": {
        "id": "psxwZxAdk0xf"
      },
      "execution_count": null,
      "outputs": []
    },
    {
      "cell_type": "code",
      "source": [
        "a = float(input())\n",
        "b = float(input())\n",
        "\n",
        "avg = (a + b)/2\n",
        "\n",
        "print(avg)"
      ],
      "metadata": {
        "id": "dN9q0--elhNR"
      },
      "execution_count": null,
      "outputs": []
    },
    {
      "cell_type": "code",
      "source": [
        "a = int(input())\n",
        "b = int(input())\n",
        "\n",
        "if a >= b:\n",
        " print (True)\n",
        "else:\n",
        " print(False)"
      ],
      "metadata": {
        "id": "8OvlcUdBmzvb"
      },
      "execution_count": null,
      "outputs": []
    },
    {
      "cell_type": "code",
      "source": [
        "name = str(input())\n",
        "\n",
        "print(len(name))"
      ],
      "metadata": {
        "id": "lotHmaYVrojr"
      },
      "execution_count": null,
      "outputs": []
    },
    {
      "cell_type": "code",
      "source": [
        "question = str(input())\n",
        "question.count(\"$\")"
      ],
      "metadata": {
        "id": "zENTbDQ0r6Ni"
      },
      "execution_count": null,
      "outputs": []
    },
    {
      "cell_type": "code",
      "source": [
        "a = int(input())\n",
        "\n",
        "if a % 2 == 0:\n",
        " print (\"Even\")\n",
        "else:\n",
        " print(\"Odd\")"
      ],
      "metadata": {
        "id": "KA-5n9fzs8d1"
      },
      "execution_count": null,
      "outputs": []
    },
    {
      "cell_type": "code",
      "source": [
        "a = int(input())\n",
        "b = int(input())\n",
        "c = int(input())\n",
        "\n",
        "if a > b and a > c:\n",
        " print (\"The greatest integer is \" + str(a))\n",
        "elif b >a and b > c:\n",
        "  print(\"The greatest integer is \" + str(b))\n",
        "elif c > a and c > b:\n",
        "  print(\"The greatest integer is \" + str(c))\n",
        "else:\n",
        " print(\"Nothing\")"
      ],
      "metadata": {
        "id": "1J202He_tvKO"
      },
      "execution_count": null,
      "outputs": []
    },
    {
      "cell_type": "code",
      "source": [
        "X = int(input())\n",
        "\n",
        "if X % 7 == 0:\n",
        "  print(\"X is a multiple of 7.\")\n",
        "else:\n",
        "  print(\"X is not a multiple of 7.\")"
      ],
      "metadata": {
        "id": "AStps9SmwwoC"
      },
      "execution_count": null,
      "outputs": []
    },
    {
      "cell_type": "code",
      "source": [
        "print(\"Enter your 3 favorite movies-\")\n",
        "\n",
        "a = str(input())\n",
        "b = str(input())\n",
        "c = str(input())\n",
        "\n",
        "Movie_list =[a, b, c]\n",
        "\n",
        "print(Movie_list)"
      ],
      "metadata": {
        "id": "-Hp6mW5WxuWf"
      },
      "execution_count": null,
      "outputs": []
    },
    {
      "cell_type": "code",
      "source": [
        "list=[1,2,3,2,1]\n",
        "list1 = list.copy()\n",
        "\n",
        "list1.reverse()\n",
        "\n",
        "if list1 == list:\n",
        "  print(\"Yes, It is a palindrome.\")\n",
        "else:\n",
        "  print(\"No, Not a palindrome.\")"
      ],
      "metadata": {
        "id": "FwCsryV_Eq27"
      },
      "execution_count": null,
      "outputs": []
    },
    {
      "cell_type": "code",
      "source": [
        "tup = (\"C\",\"D\",\"A\",\"A\",\"B\",\"B\",\"A\")\n",
        "\n",
        "number_of_student_with_A_grade= tup.count(\"A\")\n",
        "print(number_of_student_with_A_grade)"
      ],
      "metadata": {
        "id": "tNeNit0GHJK-"
      },
      "execution_count": null,
      "outputs": []
    },
    {
      "cell_type": "code",
      "source": [
        "list = [\"C\",\"D\",\"A\",\"A\",\"B\",\"B\",\"A\"]\n",
        "list.sort()\n",
        "\n",
        "print(list)"
      ],
      "metadata": {
        "id": "iN1rvK4dH_c9"
      },
      "execution_count": null,
      "outputs": []
    },
    {
      "cell_type": "code",
      "source": [
        "my_dict = {\n",
        "    \"table\":[\"a piece of furniture\",\"list of facts and figures\"],\n",
        "    \"cat\":\"a small animal\"\n",
        "}\n",
        "\n",
        "print(my_dict)"
      ],
      "metadata": {
        "id": "-vNAbXCKIyMc"
      },
      "execution_count": null,
      "outputs": []
    },
    {
      "cell_type": "code",
      "source": [],
      "metadata": {
        "id": "hEsvPwSvMSrx"
      },
      "execution_count": null,
      "outputs": []
    }
  ]
}