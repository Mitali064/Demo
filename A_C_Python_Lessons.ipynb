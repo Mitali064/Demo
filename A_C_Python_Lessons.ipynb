{
  "nbformat": 4,
  "nbformat_minor": 0,
  "metadata": {
    "colab": {
      "provenance": [],
      "authorship_tag": "ABX9TyMtfLV5O7mnUnFECP4nkVKe",
      "include_colab_link": true
    },
    "kernelspec": {
      "name": "python3",
      "display_name": "Python 3"
    },
    "language_info": {
      "name": "python"
    }
  },
  "cells": [
    {
      "cell_type": "markdown",
      "metadata": {
        "id": "view-in-github",
        "colab_type": "text"
      },
      "source": [
        "<a href=\"https://colab.research.google.com/github/Mitali064/Demo/blob/main/A_C_Python_Lessons.ipynb\" target=\"_parent\"><img src=\"https://colab.research.google.com/assets/colab-badge.svg\" alt=\"Open In Colab\"/></a>"
      ]
    },
    {
      "cell_type": "code",
      "execution_count": null,
      "metadata": {
        "id": "HJ98WtSPKW7D"
      },
      "outputs": [],
      "source": [
        "a = int(input())\n",
        "b = int(input())\n",
        "\n",
        "print (a+b)"
      ]
    },
    {
      "cell_type": "code",
      "source": [
        "side_of_a_square = int(input())\n",
        "area = side_of_a_square **2\n",
        "print (area)"
      ],
      "metadata": {
        "id": "psxwZxAdk0xf"
      },
      "execution_count": null,
      "outputs": []
    },
    {
      "cell_type": "code",
      "source": [
        "a = float(input())\n",
        "b = float(input())\n",
        "\n",
        "avg = (a + b)/2\n",
        "\n",
        "print(avg)"
      ],
      "metadata": {
        "id": "dN9q0--elhNR"
      },
      "execution_count": null,
      "outputs": []
    },
    {
      "cell_type": "code",
      "source": [
        "a = int(input())\n",
        "b = int(input())\n",
        "\n",
        "if a >= b:\n",
        " print (True)\n",
        "else:\n",
        " print(False)"
      ],
      "metadata": {
        "id": "8OvlcUdBmzvb"
      },
      "execution_count": null,
      "outputs": []
    },
    {
      "cell_type": "code",
      "source": [
        "name = str(input())\n",
        "\n",
        "print(len(name))"
      ],
      "metadata": {
        "id": "lotHmaYVrojr"
      },
      "execution_count": null,
      "outputs": []
    },
    {
      "cell_type": "code",
      "source": [
        "question = str(input())\n",
        "question.count(\"$\")"
      ],
      "metadata": {
        "id": "zENTbDQ0r6Ni"
      },
      "execution_count": null,
      "outputs": []
    },
    {
      "cell_type": "code",
      "source": [
        "a = int(input())\n",
        "\n",
        "if a % 2 == 0:\n",
        " print (\"Even\")\n",
        "else:\n",
        " print(\"Odd\")"
      ],
      "metadata": {
        "id": "KA-5n9fzs8d1"
      },
      "execution_count": null,
      "outputs": []
    },
    {
      "cell_type": "code",
      "source": [
        "a = int(input())\n",
        "b = int(input())\n",
        "c = int(input())\n",
        "\n",
        "if a > b and a > c:\n",
        " print (\"The greatest integer is \" + str(a))\n",
        "elif b >a and b > c:\n",
        "  print(\"The greatest integer is \" + str(b))\n",
        "elif c > a and c > b:\n",
        "  print(\"The greatest integer is \" + str(c))\n",
        "else:\n",
        " print(\"Nothing\")"
      ],
      "metadata": {
        "id": "1J202He_tvKO"
      },
      "execution_count": null,
      "outputs": []
    },
    {
      "cell_type": "code",
      "source": [
        "X = int(input())\n",
        "\n",
        "if X % 7 == 0:\n",
        "  print(\"X is a multiple of 7.\")\n",
        "else:\n",
        "  print(\"X is not a multiple of 7.\")"
      ],
      "metadata": {
        "id": "AStps9SmwwoC"
      },
      "execution_count": null,
      "outputs": []
    },
    {
      "cell_type": "code",
      "source": [
        "print(\"Enter your 3 favorite movies-\")\n",
        "\n",
        "a = str(input())\n",
        "b = str(input())\n",
        "c = str(input())\n",
        "\n",
        "Movie_list =[a, b, c]\n",
        "\n",
        "print(Movie_list)"
      ],
      "metadata": {
        "id": "-Hp6mW5WxuWf"
      },
      "execution_count": null,
      "outputs": []
    },
    {
      "cell_type": "code",
      "source": [
        "list=[1,2,3,2,1]\n",
        "list1 = list.copy()\n",
        "\n",
        "list1.reverse()\n",
        "\n",
        "if list1 == list:\n",
        "  print(\"Yes, It is a palindrome.\")\n",
        "else:\n",
        "  print(\"No, Not a palindrome.\")"
      ],
      "metadata": {
        "id": "FwCsryV_Eq27"
      },
      "execution_count": null,
      "outputs": []
    },
    {
      "cell_type": "code",
      "source": [
        "tup = (\"C\",\"D\",\"A\",\"A\",\"B\",\"B\",\"A\")\n",
        "\n",
        "number_of_student_with_A_grade= tup.count(\"A\")\n",
        "print(number_of_student_with_A_grade)"
      ],
      "metadata": {
        "id": "tNeNit0GHJK-"
      },
      "execution_count": null,
      "outputs": []
    },
    {
      "cell_type": "code",
      "source": [
        "list = [\"C\",\"D\",\"A\",\"A\",\"B\",\"B\",\"A\"]\n",
        "list.sort()\n",
        "\n",
        "print(list)"
      ],
      "metadata": {
        "id": "iN1rvK4dH_c9"
      },
      "execution_count": null,
      "outputs": []
    },
    {
      "cell_type": "code",
      "source": [
        "my_dict = {\n",
        "    \"table\":[\"a piece of furniture\",\"list of facts and figures\"],\n",
        "    \"cat\":\"a small animal\"\n",
        "}\n",
        "\n",
        "print(my_dict)"
      ],
      "metadata": {
        "id": "-vNAbXCKIyMc"
      },
      "execution_count": null,
      "outputs": []
    },
    {
      "cell_type": "code",
      "source": [
        "subjects ={\"python\",\"java\",\"C++\",\"python\",\"javascript\",\"java\",\"python\",\"java\",\"C++\",\"C\"}\n",
        "\n",
        "\n",
        "print(len(subjects))"
      ],
      "metadata": {
        "id": "hEsvPwSvMSrx"
      },
      "execution_count": null,
      "outputs": []
    },
    {
      "cell_type": "code",
      "source": [
        "score_card ={\n",
        "}\n",
        "phy_marks= int(input())\n",
        "score_card.update({\"phy\": phy_marks})\n",
        "\n",
        "chem_marks= int(input())\n",
        "score_card.update({\"chem\": chem_marks})\n",
        "\n",
        "math_marks= int(input())\n",
        "score_card.update({\"math\": math_marks})\n",
        "\n",
        "print(score_card)"
      ],
      "metadata": {
        "id": "0LSiIcLZQrbl"
      },
      "execution_count": null,
      "outputs": []
    },
    {
      "cell_type": "code",
      "source": [
        "set_1 ={9, \"9.0\"}\n",
        "print(set_1)"
      ],
      "metadata": {
        "colab": {
          "base_uri": "https://localhost:8080/"
        },
        "id": "qPrIbu26SYwb",
        "outputId": "48b6f43b-b957-471c-ff71-584de7432e1a"
      },
      "execution_count": null,
      "outputs": [
        {
          "output_type": "stream",
          "name": "stdout",
          "text": [
            "{9, '9.0'}\n"
          ]
        }
      ]
    },
    {
      "cell_type": "code",
      "source": [
        "i=1\n",
        "while i<= 100:\n",
        "  print(i)\n",
        "  i +=1"
      ],
      "metadata": {
        "id": "IzwSKmbRib91"
      },
      "execution_count": null,
      "outputs": []
    },
    {
      "cell_type": "code",
      "source": [
        "i = 100\n",
        "while i>= 1:\n",
        "  print(i)\n",
        "  i -=1"
      ],
      "metadata": {
        "id": "YXkcHwwoi1Ha"
      },
      "execution_count": null,
      "outputs": []
    },
    {
      "cell_type": "code",
      "source": [
        "i = int(input())\n",
        "j = 2\n",
        "while j <=10:\n",
        "  print(i * j)\n",
        "  j+=1"
      ],
      "metadata": {
        "id": "tFG2ynFSjOCi"
      },
      "execution_count": null,
      "outputs": []
    },
    {
      "cell_type": "code",
      "source": [
        "list = [1, 4, 9, 16, 25, 36, 49, 64, 81,100]\n",
        "\n",
        "i = 0\n",
        "while i < len(list):\n",
        "  print(list[i])\n",
        "  i +=1\n"
      ],
      "metadata": {
        "id": "Da-NKZ21lcaD"
      },
      "execution_count": null,
      "outputs": []
    },
    {
      "cell_type": "code",
      "source": [
        "nums =(1, 4, 9, 16, 25, 36, 49, 64, 81,100)\n",
        "\n",
        "x = int(input())\n",
        "i = 0\n",
        "while i < len(nums):\n",
        "  if nums[i] == x :\n",
        "    print (\"Found at\",i)\n",
        "\n",
        "  i += 1"
      ],
      "metadata": {
        "id": "li4PT_agoMDy"
      },
      "execution_count": null,
      "outputs": []
    },
    {
      "cell_type": "code",
      "source": [
        "nums = [1, 4, 9, 16, 25, 36, 49, 64, 81,100]\n",
        "\n",
        "for values in nums:\n",
        "  print(values)"
      ],
      "metadata": {
        "id": "ZpveCSkSqaTN"
      },
      "execution_count": null,
      "outputs": []
    },
    {
      "cell_type": "code",
      "source": [
        "tup = (1, 4, 9, 16, 25, 36, 49, 64, 81,100)\n",
        "x = int(input())\n",
        "\n",
        "idx = 0\n",
        "for values in tup:\n",
        "  if (values == x):\n",
        "    print (\"found at\", idx)\n",
        "    idx += 1\n",
        "\n",
        "\n"
      ],
      "metadata": {
        "id": "alpHeKC6mGQz"
      },
      "execution_count": null,
      "outputs": []
    },
    {
      "cell_type": "code",
      "source": [
        "for number in range(1,101,1):\n",
        "  print(number)"
      ],
      "metadata": {
        "id": "WMOoBsNKrUzP"
      },
      "execution_count": null,
      "outputs": []
    },
    {
      "cell_type": "code",
      "source": [
        "for number in range(100,0,-1):\n",
        "  print(number)"
      ],
      "metadata": {
        "id": "4qoLz4HbsM15"
      },
      "execution_count": null,
      "outputs": []
    },
    {
      "cell_type": "code",
      "source": [
        "x = int(input())\n",
        "\n",
        "for number in range(x,11*x,x):\n",
        "  print(number)"
      ],
      "metadata": {
        "id": "DwgtL-94snmC"
      },
      "execution_count": null,
      "outputs": []
    },
    {
      "cell_type": "code",
      "source": [
        "x = int(input())\n",
        "sum = 0\n",
        "i=1\n",
        "while i<= x:\n",
        "  sum +=i\n",
        "  i+=1\n",
        "\n",
        "print(\"the sum is\",sum)"
      ],
      "metadata": {
        "id": "TQMyAJGatTns"
      },
      "execution_count": null,
      "outputs": []
    },
    {
      "cell_type": "code",
      "source": [
        "x = int(input())\n",
        "factorial = 1\n",
        "i = 1\n",
        "for values in range(1,x+1):\n",
        "  factorial *= i\n",
        "  i+=1\n",
        "\n",
        "print(\"the factorial is\", factorial)"
      ],
      "metadata": {
        "id": "S8pzreU_zU-F"
      },
      "execution_count": null,
      "outputs": []
    },
    {
      "cell_type": "code",
      "source": [
        "def average_of_numbers(a,b,c):\n",
        "  sum = a + b + c\n",
        "  avg = sum / 3\n",
        "\n",
        "  return avg\n",
        "\n",
        "average_of_numbers(1,2,3)"
      ],
      "metadata": {
        "id": "8HFUEQ7wtLu3"
      },
      "execution_count": null,
      "outputs": []
    },
    {
      "cell_type": "code",
      "source": [
        "vegetables= [\"potato\",\"tomato\",\"bhindi\"]\n",
        "places = [\"delhi\",\"mumbai\",\"chennai\"]\n",
        "\n",
        "def print_len(list):\n",
        "  print(len(list))\n",
        "\n",
        "print_len(vegetables)"
      ],
      "metadata": {
        "id": "TCHqYEcFuuwV"
      },
      "execution_count": null,
      "outputs": []
    },
    {
      "cell_type": "code",
      "source": [
        "vegetables= [\"potato\",\"tomato\",\"bhindi\"]\n",
        "places = [\"delhi\",\"mumbai\",\"chennai\"]\n",
        "\n",
        "def print_list(list):\n",
        "  for item in list:\n",
        "    print(item, end=\" \")\n",
        "\n",
        "print_list(places)"
      ],
      "metadata": {
        "id": "85TrOrJjvNSg"
      },
      "execution_count": null,
      "outputs": []
    },
    {
      "cell_type": "code",
      "source": [
        "def cal_fact(n):\n",
        "  fact =1\n",
        "  for i in range(1,n+1):\n",
        "    fact *=i\n",
        "    i +=1\n",
        "  print(fact)\n",
        "\n",
        "cal_fact(6)\n",
        "\n",
        "\n"
      ],
      "metadata": {
        "id": "ARGzYwNix3b5"
      },
      "execution_count": null,
      "outputs": []
    },
    {
      "cell_type": "code",
      "source": [
        "def conversion(usd_dollar):\n",
        "  indian_rupee = usd_dollar * 83\n",
        "  print(usd_dollar,\"USD=\", indian_rupee,\"INR\")\n",
        "\n",
        "conversion(4)"
      ],
      "metadata": {
        "id": "ES-DRox--RF-"
      },
      "execution_count": null,
      "outputs": []
    },
    {
      "cell_type": "code",
      "source": [],
      "metadata": {
        "id": "akZUBmXZ4KiA"
      },
      "execution_count": null,
      "outputs": []
    }
  ]
}